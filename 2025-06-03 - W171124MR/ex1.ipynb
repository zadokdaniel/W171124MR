{
 "cells": [
  {
   "metadata": {},
   "cell_type": "markdown",
   "source": [
    "ask the user for a product name and product price\n",
    "and show some description\n",
    "\n",
    "- use the same parameter twice\n",
    "- {0}\n",
    "\n",
    "---------TITLE-------- \t30 characters line\n",
    "32\t\t      \tprice\n",
    "32 \t\t\tprice"
   ],
   "id": "e0f8c7cc880ff79"
  },
  {
   "metadata": {
    "ExecuteTime": {
     "end_time": "2025-06-03T07:59:53.804550Z",
     "start_time": "2025-06-03T07:59:47.586315Z"
    }
   },
   "cell_type": "code",
   "source": [
    "title = input(\"What is the product's title?\")\n",
    "price = input(\"What is the product's price?\")\n",
    "\n",
    "print(\"\"\"\n",
    "{0:-^30}\n",
    "{1}\n",
    "{1}\n",
    "\"\"\".format(title, price))"
   ],
   "id": "f40de6cf689e78c7",
   "outputs": [
    {
     "name": "stdout",
     "output_type": "stream",
     "text": [
      "\n",
      "-----------shampoo------------\n",
      "323.33\n",
      "323.33\n",
      "\n"
     ]
    }
   ],
   "execution_count": 2
  }
 ],
 "metadata": {
  "kernelspec": {
   "display_name": "Python 3",
   "language": "python",
   "name": "python3"
  },
  "language_info": {
   "codemirror_mode": {
    "name": "ipython",
    "version": 2
   },
   "file_extension": ".py",
   "mimetype": "text/x-python",
   "name": "python",
   "nbconvert_exporter": "python",
   "pygments_lexer": "ipython2",
   "version": "2.7.6"
  }
 },
 "nbformat": 4,
 "nbformat_minor": 5
}
