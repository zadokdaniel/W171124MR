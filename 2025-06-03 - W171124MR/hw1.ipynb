{
 "cells": [
  {
   "metadata": {},
   "cell_type": "code",
   "outputs": [],
   "execution_count": null,
   "source": "",
   "id": "d6f496eee1f1cc63"
  },
  {
   "metadata": {},
   "cell_type": "markdown",
   "source": [
    "1.\n",
    "create script which receives an age and shows the user level\n",
    "\n",
    "\n",
    "0-5 noob\n",
    "5-10 child\n",
    "10-18 rebellious\n",
    "18-25 wait for it\n",
    "25-50 the difficult part\n",
    "50-120 wisdom\n",
    "\n",
    "\n",
    " 2.\n",
    "create a script which receives names and give a list of unique names\n",
    "\n"
   ],
   "id": "90c5651abcc1fe1"
  }
 ],
 "metadata": {
  "kernelspec": {
   "display_name": "Python 3",
   "language": "python",
   "name": "python3"
  },
  "language_info": {
   "codemirror_mode": {
    "name": "ipython",
    "version": 2
   },
   "file_extension": ".py",
   "mimetype": "text/x-python",
   "name": "python",
   "nbconvert_exporter": "python",
   "pygments_lexer": "ipython2",
   "version": "2.7.6"
  }
 },
 "nbformat": 4,
 "nbformat_minor": 5
}
