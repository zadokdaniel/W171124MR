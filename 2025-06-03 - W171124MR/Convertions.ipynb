{
 "cells": [
  {
   "metadata": {},
   "cell_type": "markdown",
   "source": "# Boolean",
   "id": "78f8be5cf2c0d8e1"
  },
  {
   "metadata": {},
   "cell_type": "code",
   "source": [
    "# int\n",
    "print(bool(0))\n",
    "print(bool(-0))\n",
    "# float\n",
    "print(bool(0.0))\n",
    "print(bool(-0.0))\n",
    "\n",
    "# string\n",
    "print(bool(\"\"))\n",
    "# print(bool(\" \")) # true\n",
    "\n",
    "# None\n",
    "print(bool(None))\n",
    "\n",
    "\n",
    "print(bool([]))\n",
    "print(bool({}))\n",
    "print(bool(()))\n",
    "print(bool(set()))\n",
    "print(bool(frozenset()))\n",
    "print(bool(range(0)))\n",
    "\n"
   ],
   "id": "e01dc989f52b7103",
   "outputs": [],
   "execution_count": null
  },
  {
   "metadata": {},
   "cell_type": "markdown",
   "source": "# int",
   "id": "f6ca9853403ca447"
  },
  {
   "metadata": {
    "ExecuteTime": {
     "end_time": "2025-06-03T11:22:08.863915Z",
     "start_time": "2025-06-03T11:22:08.860847Z"
    }
   },
   "cell_type": "code",
   "source": [
    "print(int(\"ffff\", 16))\n",
    "print(int(10.6))\n",
    "print(int(-10.4))\n",
    "print(int(True))\n",
    "print(int(False))\n",
    "# print(int(None)) # TypeError\n",
    "print(int(\" 34434 \"))\n",
    "print(int(\" -34434 \"))\n",
    "# print(int(\" -3443 4 \")) # ValueError\n",
    "\n"
   ],
   "id": "8bd7a0394ae8edca",
   "outputs": [
    {
     "name": "stdout",
     "output_type": "stream",
     "text": [
      "65535\n",
      "10\n",
      "-10\n",
      "1\n",
      "0\n",
      "34434\n",
      "-34434\n"
     ]
    }
   ],
   "execution_count": 2
  }
 ],
 "metadata": {
  "kernelspec": {
   "display_name": "Python 3",
   "language": "python",
   "name": "python3"
  },
  "language_info": {
   "codemirror_mode": {
    "name": "ipython",
    "version": 2
   },
   "file_extension": ".py",
   "mimetype": "text/x-python",
   "name": "python",
   "nbconvert_exporter": "python",
   "pygments_lexer": "ipython2",
   "version": "2.7.6"
  }
 },
 "nbformat": 4,
 "nbformat_minor": 5
}
