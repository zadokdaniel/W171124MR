{
 "cells": [
  {
   "cell_type": "code",
   "id": "initial_id",
   "metadata": {
    "collapsed": true,
    "ExecuteTime": {
     "end_time": "2025-06-03T12:57:03.108478Z",
     "start_time": "2025-06-03T12:57:03.105960Z"
    }
   },
   "source": [
    "if 5 > 6:\n",
    "    print('then')\n",
    "elif (5 == 5):\n",
    "    print(\"hello\")\n",
    "else:\n",
    "    print('else')\n",
    "\n"
   ],
   "outputs": [
    {
     "name": "stdout",
     "output_type": "stream",
     "text": [
      "hello\n"
     ]
    }
   ],
   "execution_count": 18
  },
  {
   "metadata": {},
   "cell_type": "markdown",
   "source": "`{valueIfTrue} if {condition} else {valueIfFalse}`",
   "id": "6a5d17d5ab81c87d"
  },
  {
   "metadata": {
    "ExecuteTime": {
     "end_time": "2025-06-03T12:58:38.969490Z",
     "start_time": "2025-06-03T12:58:35.650229Z"
    }
   },
   "cell_type": "code",
   "source": [
    "age = int(input('your age?'))\n",
    "\n",
    "print(\"you are {}\".format(\"old\" if age  > 120 else \"young\"))"
   ],
   "id": "ecbce7233e2b1e7e",
   "execution_count": 19,
   "outputs": [
    {
     "name": "stdout",
     "output_type": "stream",
     "text": [
      "you are young\n"
     ]
    }
   ]
  }
 ],
 "metadata": {
  "kernelspec": {
   "display_name": "Python 3",
   "language": "python",
   "name": "python3"
  },
  "language_info": {
   "codemirror_mode": {
    "name": "ipython",
    "version": 2
   },
   "file_extension": ".py",
   "mimetype": "text/x-python",
   "name": "python",
   "nbconvert_exporter": "python",
   "pygments_lexer": "ipython2",
   "version": "2.7.6"
  }
 },
 "nbformat": 4,
 "nbformat_minor": 5
}
