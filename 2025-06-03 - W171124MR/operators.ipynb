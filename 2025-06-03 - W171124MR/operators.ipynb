{
 "cells": [
  {
   "cell_type": "code",
   "id": "initial_id",
   "metadata": {
    "collapsed": true,
    "ExecuteTime": {
     "end_time": "2025-06-03T12:43:53.483626Z",
     "start_time": "2025-06-03T12:43:53.479582Z"
    }
   },
   "source": [
    "print(5 + 5)\n",
    "print(5 - 6)\n",
    "print(5 * 5)\n",
    "print(78 / 3) # always float\n",
    "print(78 / 2) # always float\n",
    "print(78 // 3) # floors the value\n",
    "print(78%2)\n",
    "print(5**5)"
   ],
   "outputs": [
    {
     "name": "stdout",
     "output_type": "stream",
     "text": [
      "10\n",
      "-1\n",
      "25\n",
      "26.0\n",
      "39.0\n",
      "26\n",
      "0\n",
      "3125\n"
     ]
    }
   ],
   "execution_count": 1
  },
  {
   "metadata": {
    "ExecuteTime": {
     "end_time": "2025-06-03T12:44:51.856396Z",
     "start_time": "2025-06-03T12:44:51.853357Z"
    }
   },
   "cell_type": "code",
   "source": [
    "print(5 == 5)\n",
    "print(5 != 5)\n",
    "print(5 > 6)\n",
    "print(5 < 6)\n",
    "print(5 >= 6)\n",
    "print(5 <= 6)\n",
    "\n"
   ],
   "id": "b7f138ea33a30fd8",
   "outputs": [
    {
     "name": "stdout",
     "output_type": "stream",
     "text": [
      "True\n",
      "False\n",
      "False\n",
      "True\n",
      "False\n",
      "True\n"
     ]
    }
   ],
   "execution_count": 2
  },
  {
   "metadata": {
    "ExecuteTime": {
     "end_time": "2025-06-03T12:50:27.852297Z",
     "start_time": "2025-06-03T12:50:27.849584Z"
    }
   },
   "cell_type": "code",
   "source": [
    "print(True and False)\n",
    "print(True or False)\n",
    "print(True or not False) # true || !false\n",
    "print(None == None)\n",
    "print(None is None) # checks if the reference is the same\n",
    "print(None is not None) ## checks if the reference is different\n",
    "\n",
    "a = (1,2,3)\n",
    "b = (1,2,3)\n",
    "\n",
    "print(a == b) # checks content\n",
    "print(a is b) # checks reference"
   ],
   "id": "c1230b383e5ee06e",
   "outputs": [
    {
     "name": "stdout",
     "output_type": "stream",
     "text": [
      "False\n",
      "True\n",
      "True\n",
      "True\n",
      "True\n",
      "False\n",
      "True\n",
      "False\n"
     ]
    }
   ],
   "execution_count": 17
  }
 ],
 "metadata": {
  "kernelspec": {
   "display_name": "Python 3",
   "language": "python",
   "name": "python3"
  },
  "language_info": {
   "codemirror_mode": {
    "name": "ipython",
    "version": 2
   },
   "file_extension": ".py",
   "mimetype": "text/x-python",
   "name": "python",
   "nbconvert_exporter": "python",
   "pygments_lexer": "ipython2",
   "version": "2.7.6"
  }
 },
 "nbformat": 4,
 "nbformat_minor": 5
}
