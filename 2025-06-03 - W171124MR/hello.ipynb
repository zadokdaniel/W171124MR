{
 "cells": [
  {
   "metadata": {},
   "cell_type": "markdown",
   "source": [
    "https://drive.google.com/file/d/1954djHTbaNNmJC2B7CKehnV22abU1Sja/view?usp=sharing\n",
    "\n",
    "https://docs.python.org/3/library/stdtypes.html#text-sequence-type-str"
   ],
   "id": "cd2b42e25f28e52a"
  },
  {
   "metadata": {},
   "cell_type": "markdown",
   "source": [
    "# Comments\n",
    "\\# will comment the rest of the line\n",
    "in python there is no multiline comments option instead use a string"
   ],
   "id": "9379b8d14b44e04f"
  },
  {
   "metadata": {},
   "cell_type": "code",
   "outputs": [],
   "execution_count": null,
   "source": [
    "# this is a comment\n",
    "a = 5 # this is a comment\n",
    "\n",
    "# line1\n",
    "# line2\n",
    "\n",
    "def add():\n",
    "    \"\"\"\n",
    "    this is some multiline comment about the function\n",
    "    which is actually a string\n",
    "    \"\"\"\n",
    "    return 5"
   ],
   "id": "e6878e4967b0a554"
  },
  {
   "metadata": {},
   "cell_type": "markdown",
   "source": "## Receive Input from user",
   "id": "455096c684615d08"
  },
  {
   "metadata": {},
   "cell_type": "code",
   "outputs": [],
   "execution_count": null,
   "source": "age = input(\"what is your age?\")\n",
   "id": "28c21322a94095b5"
  },
  {
   "metadata": {},
   "cell_type": "markdown",
   "source": "# Variables",
   "id": "ebe021783db3490c"
  },
  {
   "metadata": {},
   "cell_type": "markdown",
   "source": "### not initialized",
   "id": "9e8e5b4c69aa941a"
  },
  {
   "metadata": {
    "ExecuteTime": {
     "end_time": "2025-05-27T12:49:50.494405Z",
     "start_time": "2025-05-27T12:49:50.483482Z"
    }
   },
   "cell_type": "code",
   "source": "print(someNoneExistingVariable)",
   "id": "89095c19a62a82f0",
   "outputs": [
    {
     "ename": "NameError",
     "evalue": "name 'someNoneExistingVariable' is not defined",
     "output_type": "error",
     "traceback": [
      "\u001B[0;31m---------------------------------------------------------------------------\u001B[0m",
      "\u001B[0;31mNameError\u001B[0m                                 Traceback (most recent call last)",
      "Cell \u001B[0;32mIn[12], line 1\u001B[0m\n\u001B[0;32m----> 1\u001B[0m \u001B[38;5;28mprint\u001B[39m(\u001B[43msomeNoneExistingVariable\u001B[49m)\n",
      "\u001B[0;31mNameError\u001B[0m: name 'someNoneExistingVariable' is not defined"
     ]
    }
   ],
   "execution_count": 12
  },
  {
   "metadata": {},
   "cell_type": "markdown",
   "source": "### intializing a variable\n",
   "id": "790e8c5420e25852"
  },
  {
   "metadata": {
    "ExecuteTime": {
     "end_time": "2025-05-27T12:51:05.145360Z",
     "start_time": "2025-05-27T12:51:05.142479Z"
    }
   },
   "cell_type": "code",
   "source": [
    "x = 5\n",
    "\n",
    "print(x)"
   ],
   "id": "ce0541611fa62dc3",
   "outputs": [
    {
     "name": "stdout",
     "output_type": "stream",
     "text": [
      "5\n"
     ]
    }
   ],
   "execution_count": 13
  },
  {
   "metadata": {},
   "cell_type": "markdown",
   "source": [
    "### tuple unpacking\n",
    "\n",
    "must be the same length on the other side\n",
    "\n",
    "**similar syntax in js**\n",
    "const [a,b,c,d] = [1,2,3,4]"
   ],
   "id": "8f3730a5876dc6f5"
  },
  {
   "metadata": {
    "ExecuteTime": {
     "end_time": "2025-05-27T12:51:32.737162Z",
     "start_time": "2025-05-27T12:51:32.734135Z"
    }
   },
   "cell_type": "code",
   "source": [
    "a, b, c, d = 1, 2, 3, 4\n",
    "\n",
    "print(a, b, c, d)"
   ],
   "id": "a01774a230d085d3",
   "outputs": [
    {
     "name": "stdout",
     "output_type": "stream",
     "text": [
      "1 2 3 4\n"
     ]
    }
   ],
   "execution_count": 16
  },
  {
   "metadata": {},
   "cell_type": "markdown",
   "source": "### Iterables Unpacking",
   "id": "42fb8f252a2382c7"
  },
  {
   "metadata": {
    "ExecuteTime": {
     "end_time": "2025-05-27T12:56:35.383164Z",
     "start_time": "2025-05-27T12:56:35.379791Z"
    }
   },
   "cell_type": "code",
   "source": [
    "a, b, c, d = [1, 2, 3, 4]\n",
    "\n",
    "print(a, b, c, d)"
   ],
   "id": "de2d4636a699ebb9",
   "outputs": [
    {
     "name": "stdout",
     "output_type": "stream",
     "text": [
      "1 2 3 4\n"
     ]
    }
   ],
   "execution_count": 18
  },
  {
   "metadata": {},
   "cell_type": "markdown",
   "source": "### same value assignment\n",
   "id": "f84dc6ef9bdbf19"
  },
  {
   "metadata": {
    "ExecuteTime": {
     "end_time": "2025-05-27T12:54:41.400707Z",
     "start_time": "2025-05-27T12:54:41.396788Z"
    }
   },
   "cell_type": "code",
   "source": [
    "x = y = z = 10\n",
    "\n",
    "print(x, y, z)"
   ],
   "id": "ed16e99c80d2a50",
   "outputs": [
    {
     "name": "stdout",
     "output_type": "stream",
     "text": [
      "10 10 10\n"
     ]
    }
   ],
   "execution_count": 17
  },
  {
   "metadata": {},
   "cell_type": "markdown",
   "source": [
    "### Type hints\n",
    "\n",
    "no real implications, unless using tools which validates the type hints"
   ],
   "id": "b8cdd7d50accd592"
  },
  {
   "metadata": {
    "ExecuteTime": {
     "end_time": "2025-05-27T13:00:05.113143Z",
     "start_time": "2025-05-27T13:00:05.108612Z"
    }
   },
   "cell_type": "code",
   "source": "count: int  = 10",
   "id": "de66020b0dd242c8",
   "outputs": [],
   "execution_count": 23
  }
 ],
 "metadata": {
  "kernelspec": {
   "display_name": "Python 3",
   "language": "python",
   "name": "python3"
  },
  "language_info": {
   "codemirror_mode": {
    "name": "ipython",
    "version": 2
   },
   "file_extension": ".py",
   "mimetype": "text/x-python",
   "name": "python",
   "nbconvert_exporter": "python",
   "pygments_lexer": "ipython2",
   "version": "2.7.6"
  }
 },
 "nbformat": 4,
 "nbformat_minor": 5
}
