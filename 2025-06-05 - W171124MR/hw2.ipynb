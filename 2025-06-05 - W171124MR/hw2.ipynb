{
 "cells": [
  {
   "metadata": {},
   "cell_type": "markdown",
   "source": [
    "# Task 1\n",
    "create a function which receives\n",
    "- any number of numeric values\n",
    "- operation + - * / default +\n",
    "and returns the operation on all of them\n",
    "\n",
    "hint: slice, functions, if\n",
    "examples:\n",
    "calc(1,2,3,4, operation = \"*\") => 24\n",
    "calc(list, operation=\"*\")\n",
    "\n",
    "\n",
    "# Task 2\n",
    "create global variable counter which start with 0\n",
    "\n",
    "create increment and decrement functions which will add or subtract 1 from it\n",
    "\n",
    "create a function which receives maximum number of iteration (default -1, for infinity) a message for input from the user\n",
    "ask the user for a + - or stop + - will run increment decrement and will show the new counter value, stop will stop the iteration even if not gotten to the maximum threshold\n"
   ],
   "id": "6901a4c3de2c60c2"
  }
 ],
 "metadata": {
  "kernelspec": {
   "display_name": "Python 3",
   "language": "python",
   "name": "python3"
  },
  "language_info": {
   "codemirror_mode": {
    "name": "ipython",
    "version": 2
   },
   "file_extension": ".py",
   "mimetype": "text/x-python",
   "name": "python",
   "nbconvert_exporter": "python",
   "pygments_lexer": "ipython2",
   "version": "2.7.6"
  }
 },
 "nbformat": 4,
 "nbformat_minor": 5
}
