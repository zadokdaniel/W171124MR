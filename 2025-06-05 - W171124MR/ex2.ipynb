{
 "cells": [
  {
   "metadata": {},
   "cell_type": "markdown",
   "source": [
    "\n",
    "INPUTS:\n",
    "\ttitle\n",
    "\tprice\t\t30.3\n",
    "\tdiscount \t0.3\n",
    "\n",
    "\n",
    "OUTPUTS:\n",
    "---------TITLE-------- \t30 characters line\n",
    "30.3\n",
    "30%\n",
    "21.21\n",
    "\n",
    "\n",
    "\n",
    "\n",
    "\n",
    "\n"
   ],
   "id": "fd660733db038467"
  },
  {
   "metadata": {
    "ExecuteTime": {
     "end_time": "2025-06-03T12:37:09.906606Z",
     "start_time": "2025-06-03T12:37:01.320568Z"
    }
   },
   "cell_type": "code",
   "source": [
    "title = input(\"what is the product's title?\")\n",
    "price = float(input(\"what is the product's price\"))\n",
    "discount = float(input(\"what is the product's discount\"))\n",
    "\n",
    "print(\"\"\"\n",
    "{:-^30}\n",
    "{:,.2f}\n",
    "{:.2%}\n",
    "{:,.2f}\n",
    "\"\"\".format(title, price, discount, price * (1 - discount)))\n"
   ],
   "id": "3c4b566a8d64839b",
   "outputs": [
    {
     "name": "stdout",
     "output_type": "stream",
     "text": [
      "\n",
      "dkfjadslkfjadsklfjdsakjfsdalkjfasdklj\n",
      "4,444.00\n",
      "40.00%\n",
      "2,666.40\n",
      "\n"
     ]
    }
   ],
   "execution_count": 5
  }
 ],
 "metadata": {
  "kernelspec": {
   "display_name": "Python 3",
   "language": "python",
   "name": "python3"
  },
  "language_info": {
   "codemirror_mode": {
    "name": "ipython",
    "version": 2
   },
   "file_extension": ".py",
   "mimetype": "text/x-python",
   "name": "python",
   "nbconvert_exporter": "python",
   "pygments_lexer": "ipython2",
   "version": "2.7.6"
  }
 },
 "nbformat": 4,
 "nbformat_minor": 5
}
