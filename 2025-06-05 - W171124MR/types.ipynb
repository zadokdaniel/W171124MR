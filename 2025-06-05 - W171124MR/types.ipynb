{
 "cells": [
  {
   "metadata": {},
   "cell_type": "markdown",
   "source": "# Types",
   "id": "14ecae11f95980e"
  },
  {
   "metadata": {},
   "cell_type": "markdown",
   "source": [
    "## int\n",
    "a whole number"
   ],
   "id": "1c87a7aaa4b6081b"
  },
  {
   "metadata": {},
   "cell_type": "code",
   "source": [
    "print(type(5))          # int whole number\n",
    "\n",
    "print(9_999_999_9)      # int whole number\n",
    "print(0b01010101)       # binary\n",
    "print(0x2A4F)           # Hexadecimal"
   ],
   "id": "eb20fb128dd642ff",
   "outputs": [],
   "execution_count": null
  },
  {
   "metadata": {},
   "cell_type": "markdown",
   "source": "## Float",
   "id": "ccb5390f717a4fae"
  },
  {
   "metadata": {},
   "cell_type": "code",
   "source": [
    "print(type(5.2))     # float\n",
    "\n",
    "print(0.1 + 0.2)    # float has low precision 0.30000000000000004\n",
    "\n",
    "print(3.42)\n",
    "print(.5)           # 0.5\n",
    "print(5.)           # . indicates to python that this is a 5 float number\n",
    "print(1e4)          # e (exponent) always float\n",
    "print(1.e4)\n"
   ],
   "id": "11db25209107d804",
   "outputs": [],
   "execution_count": null
  },
  {
   "metadata": {},
   "cell_type": "markdown",
   "source": "## Boolean",
   "id": "6a66c3c9324d5adf"
  },
  {
   "metadata": {},
   "cell_type": "code",
   "source": [
    "print(type(True))                                       # capital T is important!!\n",
    "print(type(False))                                      # capital F is important!!\n",
    "\n"
   ],
   "id": "1e7a0ed119d6005f",
   "outputs": [],
   "execution_count": null
  },
  {
   "metadata": {},
   "cell_type": "markdown",
   "source": "## String",
   "id": "b5bee7f82fe92ccc"
  },
  {
   "metadata": {},
   "cell_type": "code",
   "source": [
    "\n",
    "print(type(\"hello\"))                                    # using \"\n",
    "print(type('hello'))                                    # using '\n",
    "print('\\r\\nthis is multiline\\r\\nthis is line 2\\r\\n')    # \" and ' cannot have actual new line only with escaped characters\n",
    "print(r'\\r\\nthis is multiline\\r\\nthis is line 2\\r\\n')   # r'/r\"/r\"\"\"/r''' raw string no escapes everything is a character\n",
    "print(\"hello\" \"world\")                                  # the two strings are considered as one\n",
    "print(\"hello\"\n",
    "      \"world\")                                          # same as one above\n",
    "\n",
    "print(\"\"\"\n",
    "this is multiline\n",
    "this is line 2\n",
    "\"\"\")                                                    # like ` in js without templating\n",
    "print(type('''\n",
    "this is multiline\n",
    "'''))                                                   # like ` in js without templating\n",
    "\n",
    "name = \"daniel\"\n",
    "print(f'welcome, {name} {1+1}')                         # formatted string use {} to add expression\n",
    "print(f\"\"\"hello,\n",
    "{name} {1+1}\"\"\")                                        # its like ` in js. f for format \"\"\" for line breaks)\n",
    "\n",
    "greetTemplate = \"welcome, {} {}\"\n",
    "print(greetTemplate.format(name, 1+1))\n",
    "print(greetTemplate.format(\"shalom\", 1+1))\n"
   ],
   "id": "7f411a6aee9573f0",
   "outputs": [],
   "execution_count": null
  },
  {
   "metadata": {},
   "cell_type": "markdown",
   "source": "## None",
   "id": "c902179f67c9bc5f"
  },
  {
   "metadata": {},
   "cell_type": "code",
   "source": "print(type(None))                              # js equivalent to null or undefined. capital N important\n",
   "id": "d75c5eb2a50ca1be",
   "outputs": [],
   "execution_count": null
  },
  {
   "metadata": {},
   "cell_type": "markdown",
   "source": [
    "# Concepts\n",
    "\n",
    "## iterable\n",
    "a list of some sort which it makes sense to go over one after the other\n",
    "includes all list types\n",
    "## hash\n",
    "a key value pair representing a value using a key for access\n",
    "\n",
    "## mutable\n",
    "you can change the object itself\n",
    "## immutable\n",
    "the object is frozen and can never be changed. if you need a change create a copy representing the change."
   ],
   "id": "34b3f2654167939a"
  },
  {
   "metadata": {},
   "cell_type": "markdown",
   "source": [
    "# List\n",
    "same as js array"
   ],
   "id": "d19eb9ab948ce515"
  },
  {
   "metadata": {
    "ExecuteTime": {
     "end_time": "2025-06-03T08:31:15.320560Z",
     "start_time": "2025-06-03T08:31:15.317536Z"
    }
   },
   "cell_type": "code",
   "source": [
    "list1 = []\n",
    "list2 = [1,2,3,4]\n",
    "print(type(list1))\n",
    "\n",
    "print(\"list2\", list2)\n",
    "print(\"appending 33\", list2.append(33))\n",
    "print(\"list2\", list2)\n",
    "print('pop()', list2.pop())\n",
    "print(\"list2\", list2)\n",
    "\n",
    "print(\"{:-^30}\".format(\"accessing array\"))\n",
    "\n",
    "print(list2[0])\n",
    "print(list2[-2])\n",
    "# print(list2[5]) # IndexError\n",
    "\n"
   ],
   "id": "6cb9bc75d2ddf417",
   "outputs": [
    {
     "name": "stdout",
     "output_type": "stream",
     "text": [
      "<class 'list'>\n",
      "list2 [1, 2, 3, 4]\n",
      "appending 33 None\n",
      "list2 [1, 2, 3, 4, 33]\n",
      "pop() 33\n",
      "list2 [1, 2, 3, 4]\n",
      "-------accessing array--------\n",
      "1\n",
      "3\n"
     ]
    }
   ],
   "execution_count": 3
  },
  {
   "metadata": {},
   "cell_type": "markdown",
   "source": [
    "# Slicing a list\n",
    "doesn't change the original array (immutable)\n",
    "\n",
    "start - inclusive\n",
    "end - exclusive"
   ],
   "id": "1f40c689d70ad072"
  },
  {
   "metadata": {
    "ExecuteTime": {
     "end_time": "2025-06-03T08:47:36.937185Z",
     "start_time": "2025-06-03T08:47:36.933503Z"
    }
   },
   "cell_type": "code",
   "source": [
    "list3 = [0, 1, 2, 3, 4, 5, 6, 7, 8, 9]\n",
    "\n",
    "print(list3)\n",
    "print(list3[1:2])\n",
    "print(list3[1:5])\n",
    "print(list3[2:])\n",
    "print(list3[:5])\n",
    "print(list3[:])         # full copy\n",
    "print(list3[::2])\n",
    "print(list3[::3])\n",
    "print(list3[2:5:3])\n",
    "\n",
    "print(list3[::-1])\n",
    "\n",
    "del list3[2]            # remove element (mutate)\n",
    "print(list3)\n",
    "\n",
    "# list3[20] = 5409        # IndexError\n",
    "list3[5] = 200000\n",
    "print(list3)\n",
    "\n",
    "print(len(list3))\n"
   ],
   "id": "f9a31dba4090f59f",
   "outputs": [
    {
     "name": "stdout",
     "output_type": "stream",
     "text": [
      "[0, 1, 2, 3, 4, 5, 6, 7, 8, 9]\n",
      "[1]\n",
      "[1, 2, 3, 4]\n",
      "[2, 3, 4, 5, 6, 7, 8, 9]\n",
      "[0, 1, 2, 3, 4]\n",
      "[0, 1, 2, 3, 4, 5, 6, 7, 8, 9]\n",
      "[0, 2, 4, 6, 8]\n",
      "[0, 3, 6, 9]\n",
      "[2]\n",
      "[9, 8, 7, 6, 5, 4, 3, 2, 1, 0]\n",
      "[0, 1, 3, 4, 5, 6, 7, 8, 9]\n",
      "[0, 1, 3, 4, 5, 200000, 7, 8, 9]\n",
      "9\n"
     ]
    }
   ],
   "execution_count": 34
  },
  {
   "metadata": {},
   "cell_type": "markdown",
   "source": "#",
   "id": "de7aa1d101e44c2e"
  },
  {
   "metadata": {},
   "cell_type": "markdown",
   "source": [
    "# Tuple\n",
    "immutable list"
   ],
   "id": "7cbe9e2da9c84c5a"
  },
  {
   "metadata": {
    "ExecuteTime": {
     "end_time": "2025-06-03T08:56:41.003751Z",
     "start_time": "2025-06-03T08:56:41.001311Z"
    }
   },
   "cell_type": "code",
   "source": [
    "tuple1 = (1,2,3,4)\n",
    "tuple2 = (1,)\n",
    "tuple3 = ()\n",
    "\n",
    "print(tuple1)\n",
    "print(tuple2)\n",
    "\n",
    "print(type(tuple2))"
   ],
   "id": "d8bae03ca562ab79",
   "outputs": [
    {
     "name": "stdout",
     "output_type": "stream",
     "text": [
      "(1, 2, 3, 4)\n",
      "(1,)\n",
      "<class 'tuple'>\n"
     ]
    }
   ],
   "execution_count": 43
  },
  {
   "metadata": {},
   "cell_type": "markdown",
   "source": [
    "## Set\n",
    "unique values\n",
    "`{}` empty dictionary not empty set, if you want empty set use `set()`\n"
   ],
   "id": "29a8aa652f9852e3"
  },
  {
   "metadata": {
    "ExecuteTime": {
     "end_time": "2025-06-03T10:38:34.842262Z",
     "start_time": "2025-06-03T10:38:34.838899Z"
    }
   },
   "cell_type": "code",
   "source": [
    "set1 = set([1,2,3,4,4])\n",
    "set2 = set((1,2,3,4,4))\n",
    "set3 = {1, 2, 3, 4, 4}\n",
    "set4 = frozenset([1,2,3,4,4])\n",
    "set5 = set(\"hello\")\n",
    "\n",
    "print(set1)\n",
    "print(set2)\n",
    "print(set3)\n",
    "print(set4)\n",
    "print(set5)"
   ],
   "id": "c84fd3718d982ce5",
   "outputs": [
    {
     "name": "stdout",
     "output_type": "stream",
     "text": [
      "{1, 2, 3, 4}\n",
      "{1, 2, 3, 4}\n",
      "{1, 2, 3, 4}\n",
      "frozenset({1, 2, 3, 4})\n",
      "{'h', 'o', 'l', 'e'}\n"
     ]
    }
   ],
   "execution_count": 53
  },
  {
   "metadata": {},
   "cell_type": "markdown",
   "source": [
    "# Dictionary\n",
    "\n"
   ],
   "id": "9b1527555b311644"
  },
  {
   "metadata": {
    "ExecuteTime": {
     "end_time": "2025-06-03T10:59:17.833207Z",
     "start_time": "2025-06-03T10:59:17.830002Z"
    }
   },
   "cell_type": "code",
   "source": [
    "print({})\n",
    "print(dict())\n",
    "print(dict(a = 5, b =10, c = 20))\n",
    "print(dict([\n",
    "      [\"key1\", \"value1\"],\n",
    "      [\"key2\", \"value2\"]\n",
    "]))\n",
    "\n",
    "dict1 = {\"a\": 'hello', \"b\": \"bye\", 2: \"hello again\", 3.4: \"pie\", None: \"null\",  (1,2,3): \"some tuple\"}\n",
    "print(dict1)\n",
    "print(dict1[\"a\"])\n",
    "# print(dict1[\"3.4\"]) # KeyError\n",
    "print(dict1[3.4])\n",
    "print(dict1[(1,2,3)])\n",
    "print(dict1.get(\"3.4\")) # use to overcome potential KeyErrors\n",
    "print(dict1.get(\"3.4\", \"default\")) # use to overcome potential KeyErrors\n",
    "\n",
    "\n"
   ],
   "id": "7da9270e2ea603a3",
   "outputs": [
    {
     "name": "stdout",
     "output_type": "stream",
     "text": [
      "{}\n",
      "{}\n",
      "{'a': 5, 'b': 10, 'c': 20}\n",
      "{'key1': 'value1', 'key2': 'value2'}\n",
      "{'a': 'hello', 'b': 'bye', 2: 'hello again', 3.4: 'pie', None: 'null', (1, 2, 3): 'some tuple'}\n",
      "hello\n",
      "pie\n",
      "some tuple\n",
      "None\n",
      "default\n"
     ]
    }
   ],
   "execution_count": 91
  }
 ],
 "metadata": {
  "kernelspec": {
   "display_name": "Python 3 (ipykernel)",
   "language": "python",
   "name": "python3"
  },
  "language_info": {
   "codemirror_mode": {
    "name": "ipython",
    "version": 2
   },
   "file_extension": ".py",
   "mimetype": "text/x-python",
   "name": "python",
   "nbconvert_exporter": "python",
   "pygments_lexer": "ipython2",
   "version": "2.7.6"
  }
 },
 "nbformat": 4,
 "nbformat_minor": 5
}
