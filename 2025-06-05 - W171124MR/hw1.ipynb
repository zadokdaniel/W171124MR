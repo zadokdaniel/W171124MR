{
 "cells": [
  {
   "metadata": {},
   "cell_type": "markdown",
   "source": [
    "1.\n",
    "create script which receives an age and shows the user level\n",
    "\n",
    "\n",
    "0-5 noob\n",
    "5-10 child\n",
    "10-18 rebellious\n",
    "18-25 wait for it\n",
    "25-50 the difficult part\n",
    "50-120 wisdom\n",
    "\n",
    "\n"
   ],
   "id": "90c5651abcc1fe1"
  },
  {
   "metadata": {},
   "cell_type": "code",
   "source": [
    "try:\n",
    "    age = int(input(\"what is your age?\"))\n",
    "\n",
    "    if age < 0 or age > 120:\n",
    "        raise Exception(\"va1lid age is between 0-120\")\n",
    "\n",
    "except ValueError:\n",
    "    print('you must provide a valid age number')\n",
    "except Exception as e:\n",
    "    print(e)\n",
    "else:\n",
    "    if age < 5:\n",
    "        print(\"noob\")\n",
    "    if age < 10:\n",
    "        print(\"child\")\n",
    "    if age < 18:\n",
    "        print(\"rebellious\")\n",
    "    if age < 25:\n",
    "        print(\"wait for it\")\n",
    "    if age < 50:\n",
    "        print(\"the difficult part\")\n",
    "    if age <= 120:\n",
    "        print(\"wisdom\")\n"
   ],
   "id": "7797cd5d33849a29",
   "outputs": [],
   "execution_count": null
  },
  {
   "metadata": {},
   "cell_type": "code",
   "source": [
    "while True:\n",
    "    age = input(\"what is your age?\")\n",
    "\n",
    "    try:\n",
    "        age = int(age)\n",
    "        if age < 0 or age > 120:\n",
    "            raise Exception(\"va1lid age is between 0-120\")\n",
    "    except ValueError:\n",
    "        print('you must provide a valid age number')\n",
    "    except Exception as e:\n",
    "        print(e)\n",
    "    else:\n",
    "        if age < 5:\n",
    "            print(\"noob\")\n",
    "        elif age < 10:\n",
    "            print(\"child\")\n",
    "        elif age < 18:\n",
    "            print(\"rebellious\")\n",
    "        elif age < 25:\n",
    "            print(\"wait for it\")\n",
    "        elif age < 50:\n",
    "            print(\"the difficult part\")\n",
    "        elif age <= 120:\n",
    "            print(\"wisdom\")\n",
    "        break\n",
    "\n",
    "\n"
   ],
   "id": "d9b42c80d5ca4bf4",
   "outputs": [],
   "execution_count": null
  },
  {
   "metadata": {},
   "cell_type": "markdown",
   "source": [
    "\n",
    " 2.\n",
    "create a script which receives 10 names and give a list of unique names\n"
   ],
   "id": "42588ff9ac1b2d8"
  },
  {
   "metadata": {},
   "cell_type": "code",
   "source": [
    "names = []\n",
    "\n",
    "for x in range(3):\n",
    "    names.append(input('what is the name?'))\n",
    "\n",
    "print(set(names))"
   ],
   "id": "2d6e7e5e6071c6f7",
   "outputs": [],
   "execution_count": null
  },
  {
   "metadata": {},
   "cell_type": "code",
   "source": [
    "names = set()\n",
    "\n",
    "for x in range(3):\n",
    "    names.add(input('what is the name?'))\n",
    "\n",
    "print(names)"
   ],
   "id": "d383033fed42abf7",
   "outputs": [],
   "execution_count": null
  },
  {
   "metadata": {},
   "cell_type": "markdown",
   "source": "3. create a script which receives numbers until the user says \"stop\" and then show their sum\n",
   "id": "e756e949c226d635"
  },
  {
   "metadata": {
    "ExecuteTime": {
     "end_time": "2025-06-05T10:30:34.609341Z",
     "start_time": "2025-06-05T10:30:25.665761Z"
    }
   },
   "cell_type": "code",
   "source": [
    "total = 0.0\n",
    "\n",
    "while True:\n",
    "    value = input(\"enter a number (or 'stop' to finish)\")\n",
    "\n",
    "    if value == 'stop':\n",
    "        break\n",
    "\n",
    "    try:\n",
    "        number = float(value)\n",
    "    except ValueError:\n",
    "        print(\"Invalid number\")\n",
    "        continue\n",
    "    else:\n",
    "        total += number\n",
    "\n",
    "print(f\"the total is {total}\")\n"
   ],
   "id": "dcdeaa6100512360",
   "outputs": [
    {
     "name": "stdout",
     "output_type": "stream",
     "text": [
      "the total is 68.8\n"
     ]
    }
   ],
   "execution_count": 2
  },
  {
   "metadata": {},
   "cell_type": "code",
   "source": "",
   "id": "fd41a4f6b4bd47fc",
   "outputs": [],
   "execution_count": null
  }
 ],
 "metadata": {
  "kernelspec": {
   "display_name": "Python 3",
   "language": "python",
   "name": "python3"
  },
  "language_info": {
   "codemirror_mode": {
    "name": "ipython",
    "version": 2
   },
   "file_extension": ".py",
   "mimetype": "text/x-python",
   "name": "python",
   "nbconvert_exporter": "python",
   "pygments_lexer": "ipython2",
   "version": "2.7.6"
  }
 },
 "nbformat": 4,
 "nbformat_minor": 5
}
