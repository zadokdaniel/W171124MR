{
 "cells": [
  {
   "metadata": {},
   "cell_type": "markdown",
   "source": "# Exceptions Example",
   "id": "4d17409098ba93de"
  },
  {
   "metadata": {},
   "cell_type": "code",
   "outputs": [],
   "execution_count": null,
   "source": [
    "try:\n",
    "    age = int(input(\"what is your age?\"))\n",
    "\n",
    "    if age < 0 or age > 120:\n",
    "        raise Exception(\"va1lid age is between 0-120\")\n",
    "\n",
    "except ValueError:\n",
    "    print('you must provide a valid age number')\n",
    "except Exception as e:\n",
    "    print(e)\n",
    "else:\n",
    "    print(f'your age is {age}')\n"
   ],
   "id": "b8139657d9c8c81c"
  }
 ],
 "metadata": {
  "kernelspec": {
   "display_name": "Python 3",
   "language": "python",
   "name": "python3"
  },
  "language_info": {
   "codemirror_mode": {
    "name": "ipython",
    "version": 2
   },
   "file_extension": ".py",
   "mimetype": "text/x-python",
   "name": "python",
   "nbconvert_exporter": "python",
   "pygments_lexer": "ipython2",
   "version": "2.7.6"
  }
 },
 "nbformat": 4,
 "nbformat_minor": 5
}
