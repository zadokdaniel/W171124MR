{
 "cells": [
  {
   "metadata": {},
   "cell_type": "markdown",
   "source": [
    "# Formatted String\n",
    "\n",
    "https://fstring.help/cheat/\n",
    "\n",
    "a string can be marked with 'f"
   ],
   "id": "dc174ca60ac75b15"
  },
  {
   "cell_type": "code",
   "id": "initial_id",
   "metadata": {
    "collapsed": true,
    "ExecuteTime": {
     "end_time": "2025-06-03T06:25:59.930985Z",
     "start_time": "2025-06-03T06:25:59.927978Z"
    }
   },
   "source": [
    "name = \"daniel\"\n",
    "\n",
    "print(\"my name is {name}\")\n",
    "print(f\"my name is {name}\")"
   ],
   "outputs": [
    {
     "name": "stdout",
     "output_type": "stream",
     "text": [
      "my name is {name}\n",
      "my name is daniel\n"
     ]
    }
   ],
   "execution_count": 3
  },
  {
   "metadata": {},
   "cell_type": "markdown",
   "source": [
    "# Format Function\n",
    "the arguments passed to the format function will replace the `{}` in the same order.\n",
    "must provide all of the `{}` arguments"
   ],
   "id": "71dd7880d40f4916"
  },
  {
   "metadata": {
    "ExecuteTime": {
     "end_time": "2025-06-03T06:30:25.483726Z",
     "start_time": "2025-06-03T06:30:25.480896Z"
    }
   },
   "cell_type": "code",
   "source": [
    "name = \"daniel\"\n",
    "age = 30\n",
    "\n",
    "greet = \"welcome {}, you are {} years old\"\n",
    "print(greet)\n",
    "print(greet.format(name, age))\n",
    "# print(greet.format(name)) # ERROR missing values\n"
   ],
   "id": "c65ba4b0cb656911",
   "outputs": [
    {
     "name": "stdout",
     "output_type": "stream",
     "text": [
      "welcome {}, you are {} years old\n",
      "welcome daniel, you are 30 years old\n"
     ]
    }
   ],
   "execution_count": 8
  },
  {
   "metadata": {},
   "cell_type": "markdown",
   "source": [
    "## Positional arguments\n",
    "\n",
    "in this case you cannot ask for arguments positions which are not set but you can ignore a position if you would like"
   ],
   "id": "70900cc2eb791da4"
  },
  {
   "metadata": {
    "ExecuteTime": {
     "end_time": "2025-06-03T06:54:00.728477Z",
     "start_time": "2025-06-03T06:54:00.724673Z"
    }
   },
   "cell_type": "code",
   "source": [
    "name = \"daniel\"\n",
    "age = 30\n",
    "\n",
    "greet = \"welcome, {1}, you are {0} years old {0} {0} \"\n",
    "greet = \"welcome, , you are {0} years old {0} {0} \"\n",
    "# greet = \"welcome, {1}, you are {0} years old {0} {99} \" # Index Error\n",
    "\n",
    "print(greet.format(name, age))\n",
    "\n",
    "\n",
    "greet = \"welcome, {name}, you are {age} years old  \"\n",
    "greet.format(name = name, age = age)\n",
    "\n",
    "\"{:.2%}\".format(0.2)"
   ],
   "id": "d1567e7a4c06a84c",
   "outputs": [
    {
     "name": "stdout",
     "output_type": "stream",
     "text": [
      "welcome, , you are daniel years old daniel daniel \n"
     ]
    },
    {
     "data": {
      "text/plain": [
       "'20.00%'"
      ]
     },
     "execution_count": 22,
     "metadata": {},
     "output_type": "execute_result"
    }
   ],
   "execution_count": 22
  },
  {
   "metadata": {
    "ExecuteTime": {
     "end_time": "2025-06-03T07:01:52.015452Z",
     "start_time": "2025-06-03T07:01:52.013077Z"
    }
   },
   "cell_type": "code",
   "source": "print(\"some value is %s %s\" %(age, name) )",
   "id": "c55954260c7a8b6b",
   "outputs": [
    {
     "name": "stdout",
     "output_type": "stream",
     "text": [
      "some value is 30 daniel\n"
     ]
    }
   ],
   "execution_count": 25
  }
 ],
 "metadata": {
  "kernelspec": {
   "display_name": "Python 3",
   "language": "python",
   "name": "python3"
  },
  "language_info": {
   "codemirror_mode": {
    "name": "ipython",
    "version": 2
   },
   "file_extension": ".py",
   "mimetype": "text/x-python",
   "name": "python",
   "nbconvert_exporter": "python",
   "pygments_lexer": "ipython2",
   "version": "2.7.6"
  }
 },
 "nbformat": 4,
 "nbformat_minor": 5
}
