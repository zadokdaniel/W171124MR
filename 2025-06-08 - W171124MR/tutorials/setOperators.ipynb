{
 "cells": [
  {
   "metadata": {},
   "cell_type": "markdown",
   "source": "# Set Operators",
   "id": "cfe9cea2366cb814"
  },
  {
   "metadata": {
    "ExecuteTime": {
     "end_time": "2025-06-08T09:11:24.298695Z",
     "start_time": "2025-06-08T09:11:24.294775Z"
    }
   },
   "cell_type": "code",
   "source": [
    "s1 = {1,2,3,4, 5,6,7,8}\n",
    "s2 = {5,6,7,8,9,10}\n",
    "s3 = {5,6,7,8,9,10}\n",
    "\n",
    "s4 = {5,6,7}\n",
    "\n",
    "print(\"substraction\", s1 - s2)  # only elements that are unique to left set\n",
    "print(\"substraction\", s2 - s1)\n",
    "\n",
    "print(\"intersection\", s1 & s2) # intersection\n",
    "\n",
    "print(\"Symmetrical difference\", s1 ^ s2) # Symmetrical difference\n",
    "\n",
    "print(\"union\", s1 | s2)\n",
    "\n",
    "print(\"equality\", s1 == s2)\n",
    "print(\"equality\", s2 == s3)\n",
    "\n",
    "print(\"inequality\", s1 != s2)\n",
    "print(\"inequality\", s2 != s3)\n",
    "\n",
    "print(s4 < s2) # proper subset\n",
    "print(s4 > s2) # proper subset\n",
    "\n",
    "print(s2 < s3) # they are the same and not subsets of one another\n",
    "print(s2 < s3) # they are the same and not subsets of one another\n",
    "\n",
    "print(s2 >= s3) # are they subset one of the other or equal\n",
    "print(s2 >= s3) # are they subset one of the other or equal"
   ],
   "id": "initial_id",
   "outputs": [
    {
     "name": "stdout",
     "output_type": "stream",
     "text": [
      "substraction {1, 2, 3, 4}\n",
      "substraction {9, 10}\n",
      "intersection {8, 5, 6, 7}\n",
      "Symmetrical difference {1, 2, 3, 4, 9, 10}\n",
      "union {1, 2, 3, 4, 5, 6, 7, 8, 9, 10}\n",
      "equality False\n",
      "equality True\n",
      "inequality True\n",
      "inequality False\n",
      "True\n",
      "False\n",
      "False\n",
      "False\n",
      "True\n",
      "True\n"
     ]
    }
   ],
   "execution_count": 26
  }
 ],
 "metadata": {
  "kernelspec": {
   "display_name": "Python 3",
   "language": "python",
   "name": "python3"
  },
  "language_info": {
   "codemirror_mode": {
    "name": "ipython",
    "version": 2
   },
   "file_extension": ".py",
   "mimetype": "text/x-python",
   "name": "python",
   "nbconvert_exporter": "python",
   "pygments_lexer": "ipython2",
   "version": "2.7.6"
  }
 },
 "nbformat": 4,
 "nbformat_minor": 5
}
