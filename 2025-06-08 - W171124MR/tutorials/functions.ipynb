{
 "cells": [
  {
   "metadata": {},
   "cell_type": "markdown",
   "source": "# Functions",
   "id": "d9945729e3107379"
  },
  {
   "cell_type": "code",
   "id": "initial_id",
   "metadata": {
    "collapsed": true
   },
   "source": [
    "def fn():\n",
    "    pass\n",
    "\n",
    "def sum(num1, num2, operation = \"+\"):\n",
    "    \"\"\"\n",
    "    Description\n",
    "\n",
    "    :param num1 the first number\n",
    "    :param num2 the second number\n",
    "    :param operation the operation wanted +/-\n",
    "    :return the sum of num1 and num2 using the chosen operation\n",
    "    \"\"\"\n",
    "    if operation == \"+\":\n",
    "        result = num1 + num2\n",
    "    elif operation == '-':\n",
    "        result = num1 - num2\n",
    "\n",
    "\n",
    "    return result, \"some other returned value\"\n",
    "\n",
    "print(sum(1,2))\n",
    "print(sum(1,2, \"-\"))\n",
    "print(sum(num2 = 2, num1 = 1, operation='-'))\n",
    "print(sum(1, 2, operation='-'))\n",
    "\n",
    "a, b, c  = 1,2,3\n",
    "\n"
   ],
   "outputs": [],
   "execution_count": null
  },
  {
   "metadata": {},
   "cell_type": "markdown",
   "source": "",
   "id": "e2517544486e0ce7"
  },
  {
   "metadata": {},
   "cell_type": "markdown",
   "source": [
    "# Packing and Unpacking\n",
    "\n",
    "use * for collections\n",
    "use ** for key values"
   ],
   "id": "80530c66999bab41"
  },
  {
   "metadata": {
    "ExecuteTime": {
     "end_time": "2025-06-05T12:23:10.050494Z",
     "start_time": "2025-06-05T12:23:10.045947Z"
    }
   },
   "cell_type": "code",
   "source": [
    "def fn2(a, b, *args, param1 = \"default1\", param2, **kwargs ):\n",
    "    print(\"a, b, args\", a, b, args)\n",
    "    print(\"param1, param2\", param1, param2)\n",
    "    print(\"kwargs\", kwargs)\n",
    "\n",
    "\n",
    "fn2(1, 2, 3, 4, 5, param1=\"a\", param2=\"b\")\n",
    "fn2(1, 2, 3, 4, 5, param2=\"b\", p3 = \"c\", p4 = \"d\")\n",
    "\n",
    "def fn3(*, a ,b):\n",
    "    print(a,b)\n",
    "\n",
    "fn3(a=1,b=2)\n",
    "\n",
    "\n",
    "\n",
    "\n",
    "\n"
   ],
   "id": "4cd78bdc4c8d3b23",
   "outputs": [
    {
     "name": "stdout",
     "output_type": "stream",
     "text": [
      "a, b, args 1 2 (3, 4, 5)\n",
      "param1, param2 a b\n",
      "kwargs {}\n",
      "a, b, args 1 2 (3, 4, 5)\n",
      "param1, param2 default1 b\n",
      "kwargs {'p3': 'c', 'p4': 'd'}\n",
      "1 2\n",
      "{'a': 5, 'b': 10}\n",
      "(1, 2, 3, 4, 5, 6)\n"
     ]
    }
   ],
   "execution_count": 9
  },
  {
   "metadata": {
    "ExecuteTime": {
     "end_time": "2025-06-05T12:27:59.083214Z",
     "start_time": "2025-06-05T12:27:59.079206Z"
    }
   },
   "cell_type": "code",
   "source": [
    "dict1 = {\"a\": 5}\n",
    "dict2 = {\"b\": 10}\n",
    "\n",
    "dict3 = {**dict1, **dict2}\n",
    "print(dict3)\n",
    "\n",
    "\n",
    "t1 = (1,2,3)\n",
    "t2 = (4,5,6)\n",
    "t3 = (*t1, *t2)\n",
    "\n",
    "print(t3)\n",
    "\n",
    "\n",
    "def fn10(*args, **kwargs):\n",
    "    print('args', args)\n",
    "    print('kwargs', kwargs)\n",
    "\n",
    "\n",
    "fn10(-1,-2, t1, *t2, t3, z=\"hello\", y = dict2, **dict3)\n"
   ],
   "id": "2e3fad161666b17f",
   "outputs": [
    {
     "name": "stdout",
     "output_type": "stream",
     "text": [
      "{'a': 5, 'b': 10}\n",
      "(1, 2, 3, 4, 5, 6)\n",
      "args (-1, -2, (1, 2, 3), 4, 5, 6, (1, 2, 3, 4, 5, 6))\n",
      "kwargs {'z': 'hello', 'y': {'b': 10}, 'a': 5, 'b': 10}\n"
     ]
    }
   ],
   "execution_count": 11
  },
  {
   "metadata": {},
   "cell_type": "markdown",
   "source": "# Lambda functions",
   "id": "c7fc88d540e28fa3"
  },
  {
   "metadata": {
    "ExecuteTime": {
     "end_time": "2025-06-05T12:40:55.755264Z",
     "start_time": "2025-06-05T12:40:55.752346Z"
    }
   },
   "cell_type": "code",
   "source": [
    "l1 = lambda x, y: x+y\n",
    "l2 = lambda: 5\n",
    "\n",
    "print(l1(1,2))\n",
    "print(l2())"
   ],
   "id": "d1b3b69e81d517c2",
   "execution_count": 15,
   "outputs": [
    {
     "name": "stdout",
     "output_type": "stream",
     "text": [
      "3\n",
      "5\n"
     ]
    }
   ]
  },
  {
   "metadata": {},
   "cell_type": "markdown",
   "source": [
    "# Scopes and Closures\n",
    "\n",
    "global scope is for all variables created outside a function\n",
    "\n",
    "\n",
    "local scope is for all variables created within a function"
   ],
   "id": "ac9026e33cc6de30"
  },
  {
   "metadata": {
    "ExecuteTime": {
     "end_time": "2025-06-05T13:03:10.716057Z",
     "start_time": "2025-06-05T13:03:10.712833Z"
    }
   },
   "cell_type": "code",
   "source": [
    "\n",
    "for i in range(10):\n",
    "    a = i # created on global scope\n",
    "\n",
    "print(a)\n",
    "\n",
    "\n",
    "def fn20():\n",
    "    b = 5       # created only for fn20\n",
    "    print(a)    # local scope can only read global scoped variables\n",
    "    # a = 10    # not allowed to write to global variable\n",
    "\n",
    "def fn21():\n",
    "    global a # allow to write to the global variable a\n",
    "    a = 10\n",
    "\n",
    "def fn22(fn):\n",
    "    fn()\n",
    "\n",
    "fn22(fn20)\n",
    "\n",
    "fn20()\n",
    "fn21()\n",
    "print(a)"
   ],
   "id": "530d8dae6efb59f3",
   "outputs": [
    {
     "name": "stdout",
     "output_type": "stream",
     "text": [
      "9\n",
      "9\n",
      "9\n",
      "10\n"
     ]
    }
   ],
   "execution_count": 28
  },
  {
   "metadata": {},
   "cell_type": "code",
   "outputs": [],
   "execution_count": null,
   "source": "",
   "id": "e5411fb7c0311375"
  }
 ],
 "metadata": {
  "kernelspec": {
   "display_name": "Python 3",
   "language": "python",
   "name": "python3"
  },
  "language_info": {
   "codemirror_mode": {
    "name": "ipython",
    "version": 2
   },
   "file_extension": ".py",
   "mimetype": "text/x-python",
   "name": "python",
   "nbconvert_exporter": "python",
   "pygments_lexer": "ipython2",
   "version": "2.7.6"
  }
 },
 "nbformat": 4,
 "nbformat_minor": 5
}
