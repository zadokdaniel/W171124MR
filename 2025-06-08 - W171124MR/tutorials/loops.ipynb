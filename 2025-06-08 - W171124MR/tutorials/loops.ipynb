{
 "cells": [
  {
   "metadata": {},
   "cell_type": "markdown",
   "source": [
    "# For loops\n",
    "\n",
    "\n",
    "in loops you can use\n",
    "break - stop the loop\n",
    "continue - stop current iteration"
   ],
   "id": "b2d2997e8535552c"
  },
  {
   "cell_type": "code",
   "id": "initial_id",
   "metadata": {
    "collapsed": true,
    "ExecuteTime": {
     "end_time": "2025-06-08T06:24:09.076676Z",
     "start_time": "2025-06-08T06:24:09.073998Z"
    }
   },
   "source": [
    "\n",
    "for x in range(1,10):\n",
    "    print(x, end=\" \")\n",
    "\n"
   ],
   "outputs": [
    {
     "name": "stdout",
     "output_type": "stream",
     "text": [
      "1 2 3 4 5 6 7 8 9 "
     ]
    }
   ],
   "execution_count": 6
  },
  {
   "metadata": {},
   "cell_type": "markdown",
   "source": "",
   "id": "f76e9d69eee60710"
  },
  {
   "metadata": {
    "ExecuteTime": {
     "end_time": "2025-06-08T06:22:26.719754Z",
     "start_time": "2025-06-08T06:22:26.716705Z"
    }
   },
   "cell_type": "code",
   "source": [
    "\n",
    "dict = {\"a\": \"5\", \"b\": 10}\n",
    "\n",
    "print(dict.items())\n",
    "\n",
    "for key, value in dict.items():\n",
    "    print(key, value)"
   ],
   "id": "48bb2e3135174453",
   "outputs": [
    {
     "name": "stdout",
     "output_type": "stream",
     "text": [
      "dict_items([('a', '5'), ('b', 10)])\n",
      "a 5\n",
      "b 10\n"
     ]
    }
   ],
   "execution_count": 4
  },
  {
   "metadata": {
    "ExecuteTime": {
     "end_time": "2025-06-05T07:05:02.610063Z",
     "start_time": "2025-06-05T07:05:02.607330Z"
    }
   },
   "cell_type": "code",
   "source": [
    "i = 0\n",
    "\n",
    "while i < 5:\n",
    "    print(i)\n",
    "    i +=1"
   ],
   "id": "7245913395fcc41b",
   "outputs": [
    {
     "name": "stdout",
     "output_type": "stream",
     "text": [
      "0\n",
      "1\n",
      "2\n",
      "3\n",
      "4\n"
     ]
    }
   ],
   "execution_count": 24
  }
 ],
 "metadata": {
  "kernelspec": {
   "display_name": "Python 3",
   "language": "python",
   "name": "python3"
  },
  "language_info": {
   "codemirror_mode": {
    "name": "ipython",
    "version": 2
   },
   "file_extension": ".py",
   "mimetype": "text/x-python",
   "name": "python",
   "nbconvert_exporter": "python",
   "pygments_lexer": "ipython2",
   "version": "2.7.6"
  }
 },
 "nbformat": 4,
 "nbformat_minor": 5
}
